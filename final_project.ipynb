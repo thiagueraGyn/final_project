{
 "cells": [
  {
   "cell_type": "code",
   "execution_count": 1,
   "metadata": {},
   "outputs": [],
   "source": [
    "import pandas as pd\n",
    "import numpy as np\n",
    "import matplotlib.pyplot as plt\n",
    "import seaborn as sns\n",
    "sns.set_style('darkgrid')\n",
    "\n",
    "%matplotlib inline"
   ]
  },
  {
   "cell_type": "markdown",
   "metadata": {},
   "source": [
    "# Analisando os dados"
   ]
  },
  {
   "cell_type": "code",
   "execution_count": 2,
   "metadata": {},
   "outputs": [
    {
     "data": {
      "text/html": [
       "<div>\n",
       "<style scoped>\n",
       "    .dataframe tbody tr th:only-of-type {\n",
       "        vertical-align: middle;\n",
       "    }\n",
       "\n",
       "    .dataframe tbody tr th {\n",
       "        vertical-align: top;\n",
       "    }\n",
       "\n",
       "    .dataframe thead th {\n",
       "        text-align: right;\n",
       "    }\n",
       "</style>\n",
       "<table border=\"1\" class=\"dataframe\">\n",
       "  <thead>\n",
       "    <tr style=\"text-align: right;\">\n",
       "      <th></th>\n",
       "      <th>PassengerId</th>\n",
       "      <th>Survived</th>\n",
       "      <th>Pclass</th>\n",
       "      <th>Name</th>\n",
       "      <th>Sex</th>\n",
       "      <th>Age</th>\n",
       "      <th>SibSp</th>\n",
       "      <th>Parch</th>\n",
       "      <th>Ticket</th>\n",
       "      <th>Fare</th>\n",
       "      <th>Cabin</th>\n",
       "      <th>Embarked</th>\n",
       "    </tr>\n",
       "  </thead>\n",
       "  <tbody>\n",
       "    <tr>\n",
       "      <th>0</th>\n",
       "      <td>1</td>\n",
       "      <td>0</td>\n",
       "      <td>3</td>\n",
       "      <td>Braund, Mr. Owen Harris</td>\n",
       "      <td>male</td>\n",
       "      <td>22.0</td>\n",
       "      <td>1</td>\n",
       "      <td>0</td>\n",
       "      <td>A/5 21171</td>\n",
       "      <td>7.2500</td>\n",
       "      <td>NaN</td>\n",
       "      <td>S</td>\n",
       "    </tr>\n",
       "    <tr>\n",
       "      <th>1</th>\n",
       "      <td>2</td>\n",
       "      <td>1</td>\n",
       "      <td>1</td>\n",
       "      <td>Cumings, Mrs. John Bradley (Florence Briggs Th...</td>\n",
       "      <td>female</td>\n",
       "      <td>38.0</td>\n",
       "      <td>1</td>\n",
       "      <td>0</td>\n",
       "      <td>PC 17599</td>\n",
       "      <td>71.2833</td>\n",
       "      <td>C85</td>\n",
       "      <td>C</td>\n",
       "    </tr>\n",
       "    <tr>\n",
       "      <th>2</th>\n",
       "      <td>3</td>\n",
       "      <td>1</td>\n",
       "      <td>3</td>\n",
       "      <td>Heikkinen, Miss. Laina</td>\n",
       "      <td>female</td>\n",
       "      <td>26.0</td>\n",
       "      <td>0</td>\n",
       "      <td>0</td>\n",
       "      <td>STON/O2. 3101282</td>\n",
       "      <td>7.9250</td>\n",
       "      <td>NaN</td>\n",
       "      <td>S</td>\n",
       "    </tr>\n",
       "    <tr>\n",
       "      <th>3</th>\n",
       "      <td>4</td>\n",
       "      <td>1</td>\n",
       "      <td>1</td>\n",
       "      <td>Futrelle, Mrs. Jacques Heath (Lily May Peel)</td>\n",
       "      <td>female</td>\n",
       "      <td>35.0</td>\n",
       "      <td>1</td>\n",
       "      <td>0</td>\n",
       "      <td>113803</td>\n",
       "      <td>53.1000</td>\n",
       "      <td>C123</td>\n",
       "      <td>S</td>\n",
       "    </tr>\n",
       "    <tr>\n",
       "      <th>4</th>\n",
       "      <td>5</td>\n",
       "      <td>0</td>\n",
       "      <td>3</td>\n",
       "      <td>Allen, Mr. William Henry</td>\n",
       "      <td>male</td>\n",
       "      <td>35.0</td>\n",
       "      <td>0</td>\n",
       "      <td>0</td>\n",
       "      <td>373450</td>\n",
       "      <td>8.0500</td>\n",
       "      <td>NaN</td>\n",
       "      <td>S</td>\n",
       "    </tr>\n",
       "  </tbody>\n",
       "</table>\n",
       "</div>"
      ],
      "text/plain": [
       "   PassengerId  Survived  Pclass  \\\n",
       "0            1         0       3   \n",
       "1            2         1       1   \n",
       "2            3         1       3   \n",
       "3            4         1       1   \n",
       "4            5         0       3   \n",
       "\n",
       "                                                Name     Sex   Age  SibSp  \\\n",
       "0                            Braund, Mr. Owen Harris    male  22.0      1   \n",
       "1  Cumings, Mrs. John Bradley (Florence Briggs Th...  female  38.0      1   \n",
       "2                             Heikkinen, Miss. Laina  female  26.0      0   \n",
       "3       Futrelle, Mrs. Jacques Heath (Lily May Peel)  female  35.0      1   \n",
       "4                           Allen, Mr. William Henry    male  35.0      0   \n",
       "\n",
       "   Parch            Ticket     Fare Cabin Embarked  \n",
       "0      0         A/5 21171   7.2500   NaN        S  \n",
       "1      0          PC 17599  71.2833   C85        C  \n",
       "2      0  STON/O2. 3101282   7.9250   NaN        S  \n",
       "3      0            113803  53.1000  C123        S  \n",
       "4      0            373450   8.0500   NaN        S  "
      ]
     },
     "execution_count": 2,
     "metadata": {},
     "output_type": "execute_result"
    }
   ],
   "source": [
    "df_titanic = pd.read_csv('titanic-data-6.csv')\n",
    "df_titanic.head()"
   ]
  },
  {
   "cell_type": "code",
   "execution_count": 3,
   "metadata": {},
   "outputs": [
    {
     "name": "stdout",
     "output_type": "stream",
     "text": [
      "<class 'pandas.core.frame.DataFrame'>\n",
      "RangeIndex: 891 entries, 0 to 890\n",
      "Data columns (total 12 columns):\n",
      "PassengerId    891 non-null int64\n",
      "Survived       891 non-null int64\n",
      "Pclass         891 non-null int64\n",
      "Name           891 non-null object\n",
      "Sex            891 non-null object\n",
      "Age            714 non-null float64\n",
      "SibSp          891 non-null int64\n",
      "Parch          891 non-null int64\n",
      "Ticket         891 non-null object\n",
      "Fare           891 non-null float64\n",
      "Cabin          204 non-null object\n",
      "Embarked       889 non-null object\n",
      "dtypes: float64(2), int64(5), object(5)\n",
      "memory usage: 83.6+ KB\n"
     ]
    }
   ],
   "source": [
    "df_titanic.info()"
   ]
  },
  {
   "cell_type": "code",
   "execution_count": 36,
   "metadata": {},
   "outputs": [
    {
     "data": {
      "text/plain": [
       "PassengerId      int64\n",
       "Survived         int64\n",
       "Pclass           int64\n",
       "Name            object\n",
       "Sex             object\n",
       "Age              int32\n",
       "SibSp            int64\n",
       "Parch            int64\n",
       "Ticket          object\n",
       "Fare           float64\n",
       "Cabin           object\n",
       "Embarked        object\n",
       "dtype: object"
      ]
     },
     "execution_count": 36,
     "metadata": {},
     "output_type": "execute_result"
    }
   ],
   "source": [
    "# Verificando as tipos de dados.\n",
    "df_titanic.dtypes"
   ]
  },
  {
   "cell_type": "code",
   "execution_count": 40,
   "metadata": {},
   "outputs": [
    {
     "data": {
      "text/plain": [
       "0"
      ]
     },
     "execution_count": 40,
     "metadata": {},
     "output_type": "execute_result"
    }
   ],
   "source": [
    "# Verificando a existencia de registros duplicados\n",
    "df_titanic.duplicated().sum()"
   ]
  },
  {
   "cell_type": "markdown",
   "metadata": {},
   "source": [
    "#### Pudemos verificar que:\n",
    "1. Campos que possuem valores nulos: `Age`, `Cabin` e `Embarked`.\n",
    "2. Valores de `Age` estão como `float` onde deveriam ser `int`."
   ]
  },
  {
   "cell_type": "markdown",
   "metadata": {},
   "source": [
    "# Tratamento dos dados"
   ]
  },
  {
   "cell_type": "markdown",
   "metadata": {},
   "source": [
    "> Tratando os valores nulos."
   ]
  },
  {
   "cell_type": "code",
   "execution_count": 37,
   "metadata": {},
   "outputs": [
    {
     "name": "stdout",
     "output_type": "stream",
     "text": [
      "<class 'pandas.core.frame.DataFrame'>\n",
      "RangeIndex: 891 entries, 0 to 890\n",
      "Data columns (total 12 columns):\n",
      "PassengerId    891 non-null int64\n",
      "Survived       891 non-null int64\n",
      "Pclass         891 non-null int64\n",
      "Name           891 non-null object\n",
      "Sex            891 non-null object\n",
      "Age            891 non-null int32\n",
      "SibSp          891 non-null int64\n",
      "Parch          891 non-null int64\n",
      "Ticket         891 non-null object\n",
      "Fare           891 non-null float64\n",
      "Cabin          891 non-null object\n",
      "Embarked       891 non-null object\n",
      "dtypes: float64(1), int32(1), int64(5), object(5)\n",
      "memory usage: 80.1+ KB\n"
     ]
    }
   ],
   "source": [
    "# Tratando os valores nulos de Age.\n",
    "age_means = df_titanic['Age'].mean()\n",
    "df_titanic['Age'].fillna(age_means, inplace=True)\n",
    "\n",
    "# Tratando os valores de nulos Cabin.\n",
    "df_titanic['Cabin'].fillna('Uninformed', inplace=True)\n",
    "\n",
    "# Tratando os valores de nulos Embarked.\n",
    "df_titanic['Embarked'].fillna('Uninformed', inplace=True)\n",
    "\n",
    "# Verifica se todos os valores nulos foram corrigidos.\n",
    "df_titanic.info()"
   ]
  },
  {
   "cell_type": "markdown",
   "metadata": {},
   "source": [
    "> Tratando tipos de dados."
   ]
  },
  {
   "cell_type": "code",
   "execution_count": 38,
   "metadata": {},
   "outputs": [
    {
     "data": {
      "text/plain": [
       "PassengerId      int64\n",
       "Survived         int64\n",
       "Pclass           int64\n",
       "Name            object\n",
       "Sex             object\n",
       "Age              int32\n",
       "SibSp            int64\n",
       "Parch            int64\n",
       "Ticket          object\n",
       "Fare           float64\n",
       "Cabin           object\n",
       "Embarked        object\n",
       "dtype: object"
      ]
     },
     "execution_count": 38,
     "metadata": {},
     "output_type": "execute_result"
    }
   ],
   "source": [
    "# Convertendo Age de float para int\n",
    "df_titanic['Age'] = df_titanic['Age'].astype(int)\n",
    "df_titanic.dtypes"
   ]
  },
  {
   "cell_type": "markdown",
   "metadata": {},
   "source": [
    "# Perguntas"
   ]
  },
  {
   "cell_type": "markdown",
   "metadata": {},
   "source": [
    "## 1. Dentre os sobreviventes, quais foram os fatores que colaboraram para que sobrevivessem?"
   ]
  },
  {
   "cell_type": "code",
   "execution_count": 41,
   "metadata": {},
   "outputs": [],
   "source": [
    "# Cria um df com os sobreviventes.\n",
    "df_survived = df_titanic.query('Survived == \"1\"')\n",
    "# Cria um df de mulheres sobreviventes\n",
    "df_surv_fem = df_survived.query('Sex == \"female\"')\n",
    "#Cria um df de homens sobreviventes\n",
    "df_surv_mal = df_survived.query('Sex == \"male\"')"
   ]
  },
  {
   "cell_type": "code",
   "execution_count": 47,
   "metadata": {},
   "outputs": [
    {
     "name": "stdout",
     "output_type": "stream",
     "text": [
      "Sobreviventes: 342\n",
      "==========================\n",
      "Homens: 109\n",
      "Com familiares abordo: 20\n",
      "Sem familiares abordo: 89\n",
      "Primeira classe 45\n",
      "Segunda classe 17\n",
      "Terceira classe 47\n",
      "==========================\n",
      "Mulheres: 233\n",
      "Com familiares abordo: 42\n",
      "Sem familiares abordo: 191\n",
      "Primeira classe 91\n",
      "Segunda classe 70\n",
      "Terceira classe 72\n"
     ]
    }
   ],
   "source": [
    "# Total de sobreviventes\n",
    "print('Sobreviventes: {}'.format(df_survived.shape[0]))\n",
    "print('==========================')\n",
    "# Total de homens sobreviventes\n",
    "print('Homens: {}'.format(df_surv_mal.shape[0]))\n",
    "# Total de homens sobreviventes com ou sem familiares abordo\n",
    "print('Com familiares abordo: {}'.format(df_surv_mal.query('SibSp > 0 and Parch > 0').shape[0]))\n",
    "print('Sem familiares abordo: {}'.format(df_surv_mal.query('SibSp == 0 or Parch == 0').shape[0]))\n",
    "# Total de Homens por classe de bilhete\n",
    "print('Primeira classe {}'.format(df_surv_mal.query('Pclass == 1').shape[0]))\n",
    "print('Segunda classe {}'.format(df_surv_mal.query('Pclass == 2').shape[0]))\n",
    "print('Terceira classe {}'.format(df_surv_mal.query('Pclass == 3').shape[0]))\n",
    "print('==========================')\n",
    "# Total de mulheres sobreviventes\n",
    "print('Mulheres: {}'.format(df_surv_fem.shape[0]))\n",
    "# Total de mulheres sobreviventes com ou sem familiares abordo\n",
    "print('Com familiares abordo: {}'.format(df_surv_fem.query('SibSp > 0 and Parch > 0').shape[0]))\n",
    "print('Sem familiares abordo: {}'.format(df_surv_fem.query('SibSp == 0 or Parch == 0').shape[0]))\n",
    "# Total de mulheres por classe de bilhete\n",
    "print('Primeira classe {}'.format(df_surv_fem.query('Pclass == 1').shape[0]))\n",
    "print('Segunda classe {}'.format(df_surv_fem.query('Pclass == 2').shape[0]))\n",
    "print('Terceira classe {}'.format(df_surv_fem.query('Pclass == 3').shape[0]))"
   ]
  },
  {
   "cell_type": "code",
   "execution_count": 48,
   "metadata": {},
   "outputs": [
    {
     "data": {
      "image/png": "[encoded data removed]",
      "text/plain": [
       "<Figure size 432x288 with 1 Axes>"
      ]
     },
     "metadata": {
      "needs_background": "light"
     },
     "output_type": "display_data"
    }
   ],
   "source": [
    "# Histograma de mulheres/homens sobreviventes por classe de bilhete\n",
    "plt.hist(df_surv_fem.Pclass, color='red', alpha=0.5, label='Mulheres')\n",
    "plt.hist(df_surv_mal.Pclass, color='blue', alpha=0.5, label='Homens')\n",
    "plt.legend()\n",
    "plt.show()"
   ]
  },
  {
   "cell_type": "markdown",
   "metadata": {},
   "source": [
    "> Pudemos detectar que a maior parte dos sobreviventes foram mulheres com bilhetes de primeira classe."
   ]
  },
  {
   "cell_type": "code",
   "execution_count": 57,
   "metadata": {},
   "outputs": [
    {
     "data": {
      "image/png": "[encoded data removed]",
      "text/plain": [
       "<Figure size 432x288 with 1 Axes>"
      ]
     },
     "metadata": {
      "needs_background": "light"
     },
     "output_type": "display_data"
    }
   ],
   "source": [
    "# Histograma de mulheres com ou sem irmãos/conjuge\n",
    "plt.hist(df_surv_fem.query('Pclass == 1 and SibSp > 0').SibSp, color='blue', alpha=0.5, label='Com Irmãos/Cônjuge')\n",
    "plt.hist(df_surv_fem.query('Pclass == 1 and SibSp == 0').Parch, color='red', alpha=0.5, label='Sem Irmãos/Cônjuge')\n",
    "plt.legend()\n",
    "plt.show()"
   ]
  },
  {
   "cell_type": "markdown",
   "metadata": {},
   "source": [
    "> Pudemos perceber que das mulheres com bilhete de primeira classe, as que tiveram maior exito em sobreviver, possuiam irmãos ou cônjuge abordo."
   ]
  },
  {
   "cell_type": "code",
   "execution_count": 56,
   "metadata": {},
   "outputs": [
    {
     "data": {
      "image/png": "[encoded data removed]",
      "text/plain": [
       "<Figure size 432x288 with 1 Axes>"
      ]
     },
     "metadata": {
      "needs_background": "light"
     },
     "output_type": "display_data"
    }
   ],
   "source": [
    "# Histograma de mulheres com ou sem pais/filhos\n",
    "plt.hist(df_surv_fem.query('Pclass == 1 and SibSp > 0 and Parch > 0').Parch, color='blue', alpha=0.5, label='Com Filhos/Pais')\n",
    "plt.hist(df_surv_fem.query('Pclass == 1 and SibSp > 0 and Parch == 0').Parch, color='red', alpha=0.5, label='Sem Filhos/Pais')\n",
    "plt.legend()\n",
    "plt.show()"
   ]
  },
  {
   "cell_type": "markdown",
   "metadata": {},
   "source": [
    "> Pudemos perceber que das mulheres com bilhete de primeira classe, irmãos ou cônjuge, as que tiveram maior exito em sobreviver, não pussuiam filhos os pais abordo."
   ]
  },
  {
   "cell_type": "markdown",
   "metadata": {},
   "source": [
    "## 2. Dentre os não sobreviventes, quais fatores contribuiram para esse desfecho."
   ]
  },
  {
   "cell_type": "code",
   "execution_count": 25,
   "metadata": {},
   "outputs": [],
   "source": [
    "# Cria um df com os não sobreviventes\n",
    "df_not_survivors = df_titanic.query('Survived == 0')\n",
    "# Cria um df com as mulheres não sobreviventes\n",
    "df_not_surv_fem = df_not_survivors.query('Sex == \"female\"')\n",
    "# Cria um df com os homens não sobreviventes\n",
    "df_not_sur_mal =df_not_survivors.query('Sex == \"male\"')"
   ]
  },
  {
   "cell_type": "code",
   "execution_count": 46,
   "metadata": {},
   "outputs": [
    {
     "name": "stdout",
     "output_type": "stream",
     "text": [
      "Não Sobreviventes: 549\n",
      "==========================\n",
      "Homens: 468\n",
      "Com familiares abordo: 50\n",
      "Sem familiares abordo: 418\n",
      "Primeira classe 77\n",
      "Segunda classe 91\n",
      "Terceira classe 300\n",
      "==========================\n",
      "Mulheres: 81\n",
      "Com familiares abordo: 30\n",
      "Sem familiares abordo: 51\n",
      "Primeira classe 3\n",
      "Segunda classe 6\n",
      "Terceira classe 72\n"
     ]
    }
   ],
   "source": [
    "# Total de não sobreviventes\n",
    "print('Não Sobreviventes: {}'.format(df_not_survivors.shape[0]))\n",
    "print('==========================')\n",
    "# Total de homens não sobreviventes\n",
    "print('Homens: {}'.format(df_not_sur_mal.shape[0]))\n",
    "# Total de homens com parentes abordo\n",
    "print('Com familiares abordo: {}'.format(df_not_sur_mal.query('SibSp > 0 and Parch > 0').shape[0]))\n",
    "print('Sem familiares abordo: {}'.format(df_not_sur_mal.query('SibSp == 0 or Parch == 0').shape[0]))\n",
    "# Total de homens por classe de bilhete\n",
    "print('Primeira classe {}'.format(df_not_sur_mal.query('Pclass == 1').shape[0]))\n",
    "print('Segunda classe {}'.format(df_not_sur_mal.query('Pclass == 2').shape[0]))\n",
    "print('Terceira classe {}'.format(df_not_sur_mal.query('Pclass == 3').shape[0]))\n",
    "print('==========================')\n",
    "# Total de mulheres não sobreviventes\n",
    "print('Mulheres: {}'.format(df_not_surv_fem.shape[0]))\n",
    "# Total de mulheres com parentes abordo\n",
    "print('Com familiares abordo: {}'.format(df_not_surv_fem.query('SibSp > 0 and Parch > 0').shape[0]))\n",
    "print('Sem familiares abordo: {}'.format(df_not_surv_fem.query('SibSp == 0 or Parch == 0').shape[0]))\n",
    "# Total de mulheres por classe de bilhete\n",
    "print('Primeira classe {}'.format(df_not_surv_fem.query('Pclass == 1').shape[0]))\n",
    "print('Segunda classe {}'.format(df_not_surv_fem.query('Pclass == 2').shape[0]))\n",
    "print('Terceira classe {}'.format(df_not_surv_fem.query('Pclass == 3').shape[0]))"
   ]
  },
  {
   "cell_type": "code",
   "execution_count": 27,
   "metadata": {},
   "outputs": [
    {
     "data": {
      "image/png": "[encoded data removed]",
      "text/plain": [
       "<Figure size 432x288 with 1 Axes>"
      ]
     },
     "metadata": {
      "needs_background": "light"
     },
     "output_type": "display_data"
    }
   ],
   "source": [
    "# Histograma de mulheres/homens não sobreviventes por classe de bilhete\n",
    "plt.hist(df_not_surv_fem.Pclass, color='red', alpha=0.5, label='Mulheres')\n",
    "plt.hist(df_not_sur_mal.Pclass, color='blue', alpha=0.5, label='Homens')\n",
    "plt.legend()\n",
    "plt.show()"
   ]
  },
  {
   "cell_type": "markdown",
   "metadata": {},
   "source": [
    "> Pudemos perceber que a maior parte dos que não sobreviveram, eram homens com bilhetes de terceira classe."
   ]
  },
  {
   "cell_type": "code",
   "execution_count": 60,
   "metadata": {},
   "outputs": [
    {
     "data": {
      "image/png": "[encoded data removed]",
      "text/plain": [
       "<Figure size 432x288 with 1 Axes>"
      ]
     },
     "metadata": {
      "needs_background": "light"
     },
     "output_type": "display_data"
    }
   ],
   "source": [
    "# Histograma de homens com ou sem irmãos/conjuge\n",
    "plt.hist(df_not_sur_mal.query('SibSp > 0 and Pclass == 3').SibSp, color='b', alpha=0.5, label='Com Irmãos/Cônjuge')\n",
    "plt.hist(df_not_sur_mal.query('SibSp == 0 and Pclass == 3 ').SibSp, color='r', alpha=0.5, label='Sem Irmãos/Cônjuge')\n",
    "plt.legend()\n",
    "plt.show()"
   ]
  },
  {
   "cell_type": "markdown",
   "metadata": {},
   "source": [
    "> Pudemos perceber que dos homens não sobreviventes com bilhete de terceira classe, \n",
    "o maior ídice de mortalidade ficou com os que não possuiam Irmãos ou Cônjuge."
   ]
  },
  {
   "cell_type": "code",
   "execution_count": 65,
   "metadata": {},
   "outputs": [
    {
     "data": {
      "image/png": "[encoded data removed]",
      "text/plain": [
       "<Figure size 432x288 with 1 Axes>"
      ]
     },
     "metadata": {
      "needs_background": "light"
     },
     "output_type": "display_data"
    }
   ],
   "source": [
    "# Histograma de homens com ou sem pais/filhos\n",
    "plt.hist(df_not_sur_mal.query('Parch > 0 and Pclass == 3').Parch, color='b', alpha=0.5, label='Com Filhos')\n",
    "plt.hist(df_not_sur_mal.query('Parch == 0 and Pclass == 3').Parch, color='r', alpha=0.5, label='Sem Filhos')\n",
    "plt.legend()\n",
    "plt.show()"
   ]
  },
  {
   "cell_type": "markdown",
   "metadata": {},
   "source": [
    "> Pudemos detectar que, dos homens que não sobreviverame que possuiam bilhete de terceira classe, a maioria não possuiam pais ou filhos."
   ]
  },
  {
   "cell_type": "markdown",
   "metadata": {},
   "source": [
    "## 3. De todos os tripulantes. Como a classe social interferiu em quem sobreviveu ou não?"
   ]
  },
  {
   "cell_type": "code",
   "execution_count": 35,
   "metadata": {},
   "outputs": [
    {
     "data": {
      "image/png": "[encoded data removed]",
      "text/plain": [
       "<Figure size 432x288 with 1 Axes>"
      ]
     },
     "metadata": {
      "needs_background": "light"
     },
     "output_type": "display_data"
    }
   ],
   "source": [
    "# Histograma de sobreviventes por classe de bilhete\n",
    "plt.hist(df_survived.query('Pclass == 1').Pclass, color='g', alpha=0.5, label='Primeira Classe')\n",
    "plt.hist(df_survived.query('Pclass == 2').Pclass, color='b', alpha=0.5, label='Segunda Classe')\n",
    "plt.hist(df_survived.query('Pclass == 3').Pclass, color='r', alpha=0.5, label='Terceira Classe')\n",
    "plt.legend()\n",
    "plt.show()"
   ]
  },
  {
   "cell_type": "markdown",
   "metadata": {},
   "source": [
    "> Pudemos perceber que tripulantes com bilhete de primeira classe obtiveram maior exito em sobreviver."
   ]
  },
  {
   "cell_type": "code",
   "execution_count": 75,
   "metadata": {},
   "outputs": [
    {
     "data": {
      "image/png": "[encoded data removed]",
      "text/plain": [
       "<Figure size 432x288 with 1 Axes>"
      ]
     },
     "metadata": {
      "needs_background": "light"
     },
     "output_type": "display_data"
    }
   ],
   "source": [
    "# Histograma de sobreviventes com bilhete de primeira classe\n",
    "# que não possuiam filhos ou pais abordo.\n",
    "plt.hist(df_survived.query('Pclass == 1 and Parch > 0').Parch, color='g', alpha=0.5, label='Com Pais/Filhos')\n",
    "plt.hist(df_survived.query('Pclass == 1 and Parch == 0').Parch, color='b', alpha=0.5, label='Sem Pais/Filhos')\n",
    "plt.legend()\n",
    "plt.show()"
   ]
  },
  {
   "cell_type": "markdown",
   "metadata": {},
   "source": [
    "> Pudemos perceber que tripulante da primeira classe, que não tinham pais ou filhos, tiveram maior sucesso em sobreviver."
   ]
  },
  {
   "cell_type": "code",
   "execution_count": 77,
   "metadata": {},
   "outputs": [
    {
     "data": {
      "image/png": "[encoded data removed]",
      "text/plain": [
       "<Figure size 432x288 with 1 Axes>"
      ]
     },
     "metadata": {
      "needs_background": "light"
     },
     "output_type": "display_data"
    }
   ],
   "source": [
    "# Histograma de sobreviventes com bilhete de primeira classe\n",
    "# que não possuiam cônjuge ou irmãos abordo.\n",
    "plt.hist(df_survived.query('Pclass == 1 and SibSp > 0').SibSp, color='g', alpha=0.5, label='Sem Irmãos/Cônjuge')\n",
    "plt.hist(df_survived.query('Pclass == 1 and SibSp == 0').SibSp, color='b', alpha=0.5, label='Sem Irmãos/Cônjuge')\n",
    "plt.legend()\n",
    "plt.show()"
   ]
  },
  {
   "cell_type": "markdown",
   "metadata": {},
   "source": [
    "> Pudemos perceber que, tripulantes da primeira classe, que não tinham irmãos ou côjuge, tiveram maior sucesso em sobreviver."
   ]
  },
  {
   "cell_type": "markdown",
   "metadata": {},
   "source": [
    "# Resultado"
   ]
  },
  {
   "cell_type": "markdown",
   "metadata": {},
   "source": [
    "> Gostaria de informar que, `esta análise não é definitiva`, e que, com estudos e técnicas mais refinadas, podemos obter outros resultados, mais elaborados e detalhados."
   ]
  },
  {
   "cell_type": "markdown",
   "metadata": {},
   "source": [
    "### Pudemos perceber que:\n",
    "1. Pessoas com bilhetes de `primeira classe`, tiveram maiores chances de sobreviver que as demais.\n",
    "2. `Mulheres` tiveram mais chances de sobreviver que `homens`.\n",
    "3. Pessoas `sem vínculo familiar abordo`, tiveram maiores chances de sobreviver.\n",
    "4. Pessoas de maior poder aquisitivo, tendem a viajar sem os familiares.\n",
    "5. Em situação de risco de vida, `não` ter pessoas com quem se precupar, pode contribuir para a sobrevivência.\n"
   ]
  },
  {
   "cell_type": "code",
   "execution_count": null,
   "metadata": {},
   "outputs": [],
   "source": []
  }
 ],
 "metadata": {
  "kernelspec": {
   "display_name": "Python 3",
   "language": "python",
   "name": "python3"
  },
  "language_info": {
   "codemirror_mode": {
    "name": "ipython",
    "version": 3
   },
   "file_extension": ".py",
   "mimetype": "text/x-python",
   "name": "python",
   "nbconvert_exporter": "python",
   "pygments_lexer": "ipython3",
   "version": "3.6.6"
  }
 },
 "nbformat": 4,
 "nbformat_minor": 2
}
