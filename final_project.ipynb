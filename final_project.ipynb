{
 "cells": [
  {
   "cell_type": "markdown",
   "metadata": {},
   "source": [
    "# Introdução"
   ]
  },
  {
   "cell_type": "markdown",
   "metadata": {},
   "source": [
    "### RMS Titanic"
   ]
  },
  {
   "cell_type": "markdown",
   "metadata": {},
   "source": [
    "O `RMS Titanic` foi um navio de passageiros britânico operado pela `White Star Line` e construído pelos estaleiros da `Harland and Wolff` em `Belfast`. Foi a segunda embarcação da Classe Olympic de transatlânticos depois do RMS Olympic e seguido pelo HMHS Britannic.\n",
    "A embarcação partiu em sua viagem inaugural de `Southampton` para `Nova Iorque` em `10 de abril de 1912`, no caminho passando em Cherbourg-Octeville na França e por Queenstown na Irlanda. Ele colidiu com um iceberg às `23h40min` do dia `14 de abril` e afundou na madrugada do dia seguinte com mais de `1500` pessoas a bordo, sendo um dos maiores desastres marítimos em tempos de paz de toda a história."
   ]
  },
  {
   "cell_type": "markdown",
   "metadata": {},
   "source": [
    "Este projeto tem como finalidade a conclusão do curso [Fundamentos de Data Science I](https://br.udacity.com/course/python-fundamentos-data-science--nd110) da [Udacity](https://br.udacity.com). Onde será utilizado o conchecimento obtido durante o curso, para realizar todos as passos do processo de analise de dados."
   ]
  },
  {
   "cell_type": "markdown",
   "metadata": {},
   "source": [
    "Com base nos dados disponibilizados no sítio [Kagle](https://www.kaggle.com/c/titanic/data), iremos explorar os dados contidos no arquivo `titanic-data-6.csv`, afim de responder as seguintes perguntas:\n",
    "1. Quais fatores que contribuíram para a sobrevivência dos passageiros a bordo?\n",
    "2. Qual a porcentagem de sobreviventes em cada classe do navio?\n",
    "3. Qual a porcentagem de sobreviventes entre os que viajavam com e sem família?"
   ]
  },
  {
   "cell_type": "markdown",
   "metadata": {},
   "source": [
    "# Limpeza dos dados"
   ]
  },
  {
   "cell_type": "code",
   "execution_count": 1,
   "metadata": {},
   "outputs": [],
   "source": [
    "import pandas as pd\n",
    "import numpy as np\n",
    "import matplotlib.pyplot as plt\n",
    "import seaborn as sns\n",
    "\n",
    "from math import trunc\n",
    "\n",
    "sns.set_style('darkgrid')\n",
    "%matplotlib inline"
   ]
  },
  {
   "cell_type": "code",
   "execution_count": 2,
   "metadata": {},
   "outputs": [
    {
     "data": {
      "text/html": [
       "<div>\n",
       "<style scoped>\n",
       "    .dataframe tbody tr th:only-of-type {\n",
       "        vertical-align: middle;\n",
       "    }\n",
       "\n",
       "    .dataframe tbody tr th {\n",
       "        vertical-align: top;\n",
       "    }\n",
       "\n",
       "    .dataframe thead th {\n",
       "        text-align: right;\n",
       "    }\n",
       "</style>\n",
       "<table border=\"1\" class=\"dataframe\">\n",
       "  <thead>\n",
       "    <tr style=\"text-align: right;\">\n",
       "      <th></th>\n",
       "      <th>PassengerId</th>\n",
       "      <th>Survived</th>\n",
       "      <th>Pclass</th>\n",
       "      <th>Name</th>\n",
       "      <th>Sex</th>\n",
       "      <th>Age</th>\n",
       "      <th>SibSp</th>\n",
       "      <th>Parch</th>\n",
       "      <th>Ticket</th>\n",
       "      <th>Fare</th>\n",
       "      <th>Cabin</th>\n",
       "      <th>Embarked</th>\n",
       "    </tr>\n",
       "  </thead>\n",
       "  <tbody>\n",
       "    <tr>\n",
       "      <th>0</th>\n",
       "      <td>1</td>\n",
       "      <td>0</td>\n",
       "      <td>3</td>\n",
       "      <td>Braund, Mr. Owen Harris</td>\n",
       "      <td>male</td>\n",
       "      <td>22.0</td>\n",
       "      <td>1</td>\n",
       "      <td>0</td>\n",
       "      <td>A/5 21171</td>\n",
       "      <td>7.2500</td>\n",
       "      <td>NaN</td>\n",
       "      <td>S</td>\n",
       "    </tr>\n",
       "    <tr>\n",
       "      <th>1</th>\n",
       "      <td>2</td>\n",
       "      <td>1</td>\n",
       "      <td>1</td>\n",
       "      <td>Cumings, Mrs. John Bradley (Florence Briggs Th...</td>\n",
       "      <td>female</td>\n",
       "      <td>38.0</td>\n",
       "      <td>1</td>\n",
       "      <td>0</td>\n",
       "      <td>PC 17599</td>\n",
       "      <td>71.2833</td>\n",
       "      <td>C85</td>\n",
       "      <td>C</td>\n",
       "    </tr>\n",
       "    <tr>\n",
       "      <th>2</th>\n",
       "      <td>3</td>\n",
       "      <td>1</td>\n",
       "      <td>3</td>\n",
       "      <td>Heikkinen, Miss. Laina</td>\n",
       "      <td>female</td>\n",
       "      <td>26.0</td>\n",
       "      <td>0</td>\n",
       "      <td>0</td>\n",
       "      <td>STON/O2. 3101282</td>\n",
       "      <td>7.9250</td>\n",
       "      <td>NaN</td>\n",
       "      <td>S</td>\n",
       "    </tr>\n",
       "    <tr>\n",
       "      <th>3</th>\n",
       "      <td>4</td>\n",
       "      <td>1</td>\n",
       "      <td>1</td>\n",
       "      <td>Futrelle, Mrs. Jacques Heath (Lily May Peel)</td>\n",
       "      <td>female</td>\n",
       "      <td>35.0</td>\n",
       "      <td>1</td>\n",
       "      <td>0</td>\n",
       "      <td>113803</td>\n",
       "      <td>53.1000</td>\n",
       "      <td>C123</td>\n",
       "      <td>S</td>\n",
       "    </tr>\n",
       "    <tr>\n",
       "      <th>4</th>\n",
       "      <td>5</td>\n",
       "      <td>0</td>\n",
       "      <td>3</td>\n",
       "      <td>Allen, Mr. William Henry</td>\n",
       "      <td>male</td>\n",
       "      <td>35.0</td>\n",
       "      <td>0</td>\n",
       "      <td>0</td>\n",
       "      <td>373450</td>\n",
       "      <td>8.0500</td>\n",
       "      <td>NaN</td>\n",
       "      <td>S</td>\n",
       "    </tr>\n",
       "  </tbody>\n",
       "</table>\n",
       "</div>"
      ],
      "text/plain": [
       "   PassengerId  Survived  Pclass  \\\n",
       "0            1         0       3   \n",
       "1            2         1       1   \n",
       "2            3         1       3   \n",
       "3            4         1       1   \n",
       "4            5         0       3   \n",
       "\n",
       "                                                Name     Sex   Age  SibSp  \\\n",
       "0                            Braund, Mr. Owen Harris    male  22.0      1   \n",
       "1  Cumings, Mrs. John Bradley (Florence Briggs Th...  female  38.0      1   \n",
       "2                             Heikkinen, Miss. Laina  female  26.0      0   \n",
       "3       Futrelle, Mrs. Jacques Heath (Lily May Peel)  female  35.0      1   \n",
       "4                           Allen, Mr. William Henry    male  35.0      0   \n",
       "\n",
       "   Parch            Ticket     Fare Cabin Embarked  \n",
       "0      0         A/5 21171   7.2500   NaN        S  \n",
       "1      0          PC 17599  71.2833   C85        C  \n",
       "2      0  STON/O2. 3101282   7.9250   NaN        S  \n",
       "3      0            113803  53.1000  C123        S  \n",
       "4      0            373450   8.0500   NaN        S  "
      ]
     },
     "execution_count": 2,
     "metadata": {},
     "output_type": "execute_result"
    }
   ],
   "source": [
    "df_titanic = pd.read_csv('titanic-data-6.csv')\n",
    "df_titanic.head()"
   ]
  },
  {
   "cell_type": "code",
   "execution_count": 3,
   "metadata": {},
   "outputs": [],
   "source": [
    "def replace_null_value(df, column, value):\n",
    "    ''' Substitui valores nulos em uma coluna\n",
    "    input:\n",
    "        df: DataFrame.\n",
    "        column: Nome da coluna a ser alterada.\n",
    "        value: Valor a ser aplicado.\n",
    "    output:\n",
    "        df: DataFrame alterado.\n",
    "    '''\n",
    "    return df[column].fillna(value, inplace=True)"
   ]
  },
  {
   "cell_type": "markdown",
   "metadata": {},
   "source": [
    "Verificando a existência de valores nulos."
   ]
  },
  {
   "cell_type": "code",
   "execution_count": 4,
   "metadata": {},
   "outputs": [
    {
     "name": "stdout",
     "output_type": "stream",
     "text": [
      "<class 'pandas.core.frame.DataFrame'>\n",
      "RangeIndex: 891 entries, 0 to 890\n",
      "Data columns (total 12 columns):\n",
      "PassengerId    891 non-null int64\n",
      "Survived       891 non-null int64\n",
      "Pclass         891 non-null int64\n",
      "Name           891 non-null object\n",
      "Sex            891 non-null object\n",
      "Age            714 non-null float64\n",
      "SibSp          891 non-null int64\n",
      "Parch          891 non-null int64\n",
      "Ticket         891 non-null object\n",
      "Fare           891 non-null float64\n",
      "Cabin          204 non-null object\n",
      "Embarked       889 non-null object\n",
      "dtypes: float64(2), int64(5), object(5)\n",
      "memory usage: 83.6+ KB\n"
     ]
    }
   ],
   "source": [
    "df_titanic.info()"
   ]
  },
  {
   "cell_type": "markdown",
   "metadata": {},
   "source": [
    "Verificando se os tipos dos dados estao corretos."
   ]
  },
  {
   "cell_type": "code",
   "execution_count": 5,
   "metadata": {},
   "outputs": [
    {
     "data": {
      "text/plain": [
       "PassengerId      int64\n",
       "Survived         int64\n",
       "Pclass           int64\n",
       "Name            object\n",
       "Sex             object\n",
       "Age            float64\n",
       "SibSp            int64\n",
       "Parch            int64\n",
       "Ticket          object\n",
       "Fare           float64\n",
       "Cabin           object\n",
       "Embarked        object\n",
       "dtype: object"
      ]
     },
     "execution_count": 5,
     "metadata": {},
     "output_type": "execute_result"
    }
   ],
   "source": [
    "df_titanic.dtypes"
   ]
  },
  {
   "cell_type": "markdown",
   "metadata": {},
   "source": [
    "Verificando a existência de registros duplicados."
   ]
  },
  {
   "cell_type": "code",
   "execution_count": 6,
   "metadata": {},
   "outputs": [
    {
     "data": {
      "text/plain": [
       "0"
      ]
     },
     "execution_count": 6,
     "metadata": {},
     "output_type": "execute_result"
    }
   ],
   "source": [
    "df_titanic.duplicated().sum()"
   ]
  },
  {
   "cell_type": "markdown",
   "metadata": {},
   "source": [
    "Tratando os valores nulos."
   ]
  },
  {
   "cell_type": "code",
   "execution_count": 7,
   "metadata": {},
   "outputs": [],
   "source": [
    "age_means = df_titanic['Age'].mean()\n",
    "replace_null_value(df_titanic, 'Age',  age_means)\n",
    "replace_null_value(df_titanic, 'Cabin',  'Uninformed')\n",
    "replace_null_value(df_titanic, 'Embarked',  'Uninformed')"
   ]
  },
  {
   "cell_type": "markdown",
   "metadata": {},
   "source": [
    "Como foi detectado que os valores de `Age` se encontram no tipo `float` onde deveriam estar como `int`. Vamos tratar os tipos de dados."
   ]
  },
  {
   "cell_type": "code",
   "execution_count": 8,
   "metadata": {},
   "outputs": [],
   "source": [
    "df_titanic['Age'] = df_titanic['Age'].astype(int)"
   ]
  },
  {
   "cell_type": "markdown",
   "metadata": {},
   "source": [
    "> *Para facilitar uma análise futura, vamos criar uma nova coluna que define se o passageiro possui ou não familiares abordo*."
   ]
  },
  {
   "cell_type": "markdown",
   "metadata": {},
   "source": [
    "Criando dois `DataFrames`, separando os passageiros que possuem e não possuem familiares abordo."
   ]
  },
  {
   "cell_type": "code",
   "execution_count": 9,
   "metadata": {},
   "outputs": [],
   "source": [
    "family_df = pd.DataFrame(data=df_titanic.query('SibSp > 0 or Parch > 0')) \n",
    "no_family_df = pd.DataFrame(data=df_titanic.query('SibSp == 0 and Parch == 0'))"
   ]
  },
  {
   "cell_type": "markdown",
   "metadata": {},
   "source": [
    "Criando dois `vetores`, para **sim** e para **não**."
   ]
  },
  {
   "cell_type": "code",
   "execution_count": 10,
   "metadata": {},
   "outputs": [],
   "source": [
    "yes_df = np.repeat(\"yes\", family_df.shape[0])\n",
    "no_df = np.repeat(\"no\", no_family_df.shape[0])"
   ]
  },
  {
   "cell_type": "markdown",
   "metadata": {},
   "source": [
    "Criando uma nova coluna `family` nos novos `DataFrame` e carregado com seus respectivos `vetores`."
   ]
  },
  {
   "cell_type": "code",
   "execution_count": 11,
   "metadata": {},
   "outputs": [],
   "source": [
    "family_df['family'] = yes_df\n",
    "no_family_df['family'] = no_df"
   ]
  },
  {
   "cell_type": "markdown",
   "metadata": {},
   "source": [
    "Realizando a carga dos novos dados no `df_titanic`."
   ]
  },
  {
   "cell_type": "code",
   "execution_count": 12,
   "metadata": {},
   "outputs": [],
   "source": [
    "df_titanic = family_df.append(no_family_df)"
   ]
  },
  {
   "cell_type": "markdown",
   "metadata": {},
   "source": [
    "Visualizando as alterações."
   ]
  },
  {
   "cell_type": "code",
   "execution_count": 13,
   "metadata": {},
   "outputs": [
    {
     "data": {
      "text/html": [
       "<div>\n",
       "<style scoped>\n",
       "    .dataframe tbody tr th:only-of-type {\n",
       "        vertical-align: middle;\n",
       "    }\n",
       "\n",
       "    .dataframe tbody tr th {\n",
       "        vertical-align: top;\n",
       "    }\n",
       "\n",
       "    .dataframe thead th {\n",
       "        text-align: right;\n",
       "    }\n",
       "</style>\n",
       "<table border=\"1\" class=\"dataframe\">\n",
       "  <thead>\n",
       "    <tr style=\"text-align: right;\">\n",
       "      <th></th>\n",
       "      <th>PassengerId</th>\n",
       "      <th>Survived</th>\n",
       "      <th>Pclass</th>\n",
       "      <th>Name</th>\n",
       "      <th>Sex</th>\n",
       "      <th>Age</th>\n",
       "      <th>SibSp</th>\n",
       "      <th>Parch</th>\n",
       "      <th>Ticket</th>\n",
       "      <th>Fare</th>\n",
       "      <th>Cabin</th>\n",
       "      <th>Embarked</th>\n",
       "      <th>family</th>\n",
       "    </tr>\n",
       "  </thead>\n",
       "  <tbody>\n",
       "    <tr>\n",
       "      <th>0</th>\n",
       "      <td>1</td>\n",
       "      <td>0</td>\n",
       "      <td>3</td>\n",
       "      <td>Braund, Mr. Owen Harris</td>\n",
       "      <td>male</td>\n",
       "      <td>22</td>\n",
       "      <td>1</td>\n",
       "      <td>0</td>\n",
       "      <td>A/5 21171</td>\n",
       "      <td>7.2500</td>\n",
       "      <td>Uninformed</td>\n",
       "      <td>S</td>\n",
       "      <td>yes</td>\n",
       "    </tr>\n",
       "    <tr>\n",
       "      <th>1</th>\n",
       "      <td>2</td>\n",
       "      <td>1</td>\n",
       "      <td>1</td>\n",
       "      <td>Cumings, Mrs. John Bradley (Florence Briggs Th...</td>\n",
       "      <td>female</td>\n",
       "      <td>38</td>\n",
       "      <td>1</td>\n",
       "      <td>0</td>\n",
       "      <td>PC 17599</td>\n",
       "      <td>71.2833</td>\n",
       "      <td>C85</td>\n",
       "      <td>C</td>\n",
       "      <td>yes</td>\n",
       "    </tr>\n",
       "    <tr>\n",
       "      <th>3</th>\n",
       "      <td>4</td>\n",
       "      <td>1</td>\n",
       "      <td>1</td>\n",
       "      <td>Futrelle, Mrs. Jacques Heath (Lily May Peel)</td>\n",
       "      <td>female</td>\n",
       "      <td>35</td>\n",
       "      <td>1</td>\n",
       "      <td>0</td>\n",
       "      <td>113803</td>\n",
       "      <td>53.1000</td>\n",
       "      <td>C123</td>\n",
       "      <td>S</td>\n",
       "      <td>yes</td>\n",
       "    </tr>\n",
       "    <tr>\n",
       "      <th>7</th>\n",
       "      <td>8</td>\n",
       "      <td>0</td>\n",
       "      <td>3</td>\n",
       "      <td>Palsson, Master. Gosta Leonard</td>\n",
       "      <td>male</td>\n",
       "      <td>2</td>\n",
       "      <td>3</td>\n",
       "      <td>1</td>\n",
       "      <td>349909</td>\n",
       "      <td>21.0750</td>\n",
       "      <td>Uninformed</td>\n",
       "      <td>S</td>\n",
       "      <td>yes</td>\n",
       "    </tr>\n",
       "    <tr>\n",
       "      <th>8</th>\n",
       "      <td>9</td>\n",
       "      <td>1</td>\n",
       "      <td>3</td>\n",
       "      <td>Johnson, Mrs. Oscar W (Elisabeth Vilhelmina Berg)</td>\n",
       "      <td>female</td>\n",
       "      <td>27</td>\n",
       "      <td>0</td>\n",
       "      <td>2</td>\n",
       "      <td>347742</td>\n",
       "      <td>11.1333</td>\n",
       "      <td>Uninformed</td>\n",
       "      <td>S</td>\n",
       "      <td>yes</td>\n",
       "    </tr>\n",
       "  </tbody>\n",
       "</table>\n",
       "</div>"
      ],
      "text/plain": [
       "   PassengerId  Survived  Pclass  \\\n",
       "0            1         0       3   \n",
       "1            2         1       1   \n",
       "3            4         1       1   \n",
       "7            8         0       3   \n",
       "8            9         1       3   \n",
       "\n",
       "                                                Name     Sex  Age  SibSp  \\\n",
       "0                            Braund, Mr. Owen Harris    male   22      1   \n",
       "1  Cumings, Mrs. John Bradley (Florence Briggs Th...  female   38      1   \n",
       "3       Futrelle, Mrs. Jacques Heath (Lily May Peel)  female   35      1   \n",
       "7                     Palsson, Master. Gosta Leonard    male    2      3   \n",
       "8  Johnson, Mrs. Oscar W (Elisabeth Vilhelmina Berg)  female   27      0   \n",
       "\n",
       "   Parch     Ticket     Fare       Cabin Embarked family  \n",
       "0      0  A/5 21171   7.2500  Uninformed        S    yes  \n",
       "1      0   PC 17599  71.2833         C85        C    yes  \n",
       "3      0     113803  53.1000        C123        S    yes  \n",
       "7      1     349909  21.0750  Uninformed        S    yes  \n",
       "8      2     347742  11.1333  Uninformed        S    yes  "
      ]
     },
     "execution_count": 13,
     "metadata": {},
     "output_type": "execute_result"
    }
   ],
   "source": [
    "df_titanic.head()"
   ]
  },
  {
   "cell_type": "code",
   "execution_count": 14,
   "metadata": {},
   "outputs": [
    {
     "name": "stdout",
     "output_type": "stream",
     "text": [
      "<class 'pandas.core.frame.DataFrame'>\n",
      "Int64Index: 891 entries, 0 to 890\n",
      "Data columns (total 13 columns):\n",
      "PassengerId    891 non-null int64\n",
      "Survived       891 non-null int64\n",
      "Pclass         891 non-null int64\n",
      "Name           891 non-null object\n",
      "Sex            891 non-null object\n",
      "Age            891 non-null int64\n",
      "SibSp          891 non-null int64\n",
      "Parch          891 non-null int64\n",
      "Ticket         891 non-null object\n",
      "Fare           891 non-null float64\n",
      "Cabin          891 non-null object\n",
      "Embarked       891 non-null object\n",
      "family         891 non-null object\n",
      "dtypes: float64(1), int64(6), object(6)\n",
      "memory usage: 97.5+ KB\n"
     ]
    }
   ],
   "source": [
    "df_titanic.info()"
   ]
  },
  {
   "cell_type": "code",
   "execution_count": 15,
   "metadata": {},
   "outputs": [
    {
     "data": {
      "text/plain": [
       "PassengerId      int64\n",
       "Survived         int64\n",
       "Pclass           int64\n",
       "Name            object\n",
       "Sex             object\n",
       "Age              int64\n",
       "SibSp            int64\n",
       "Parch            int64\n",
       "Ticket          object\n",
       "Fare           float64\n",
       "Cabin           object\n",
       "Embarked        object\n",
       "family          object\n",
       "dtype: object"
      ]
     },
     "execution_count": 15,
     "metadata": {},
     "output_type": "execute_result"
    }
   ],
   "source": [
    "df_titanic.dtypes"
   ]
  },
  {
   "cell_type": "markdown",
   "metadata": {},
   "source": [
    "# Código"
   ]
  },
  {
   "cell_type": "code",
   "execution_count": 16,
   "metadata": {},
   "outputs": [],
   "source": [
    "def percente_cal(min_value, max_value):\n",
    "    ''' Verifica a diferença em porcentagem de dois números.\n",
    "    input:\n",
    "        min_value: Menor valor.\n",
    "        max_value: Maior valor.\n",
    "    output:\n",
    "        int: Porcentagem.\n",
    "    '''\n",
    "    return trunc((min_value/max_value) * 100)"
   ]
  },
  {
   "cell_type": "code",
   "execution_count": 17,
   "metadata": {},
   "outputs": [],
   "source": [
    "def catplot_render(value1, value2, df, tag, title):\n",
    "    '''\n",
    "    input:\n",
    "        value1: Campo do eixo X a ser considerado.\n",
    "        value2: Campo do eixo Y a ser considerado.\n",
    "        df: DataFrame.\n",
    "        tag: Etiquetas.\n",
    "        title: Título do gráfico.\n",
    "    '''\n",
    "    ax = sns.boxplot(x=value1, y=value2, hue=tag,\n",
    "                     data=df, dodge=False).set_title(title)"
   ]
  },
  {
   "cell_type": "markdown",
   "metadata": {},
   "source": [
    "Cria novos DataFrames: sobreviventes, homens sobreviventes e mulheres sobreviventes."
   ]
  },
  {
   "cell_type": "code",
   "execution_count": 18,
   "metadata": {},
   "outputs": [],
   "source": [
    "df_survived = df_titanic.query('Survived == \"1\"')\n",
    "df_surv_fem = df_titanic.query('Sex == \"female\"')\n",
    "df_surv_mal = df_titanic.query('Sex == \"male\"')"
   ]
  },
  {
   "cell_type": "markdown",
   "metadata": {},
   "source": [
    "Visualiza o quantitativo de passageiros sobreviventes em várias categorias."
   ]
  },
  {
   "cell_type": "code",
   "execution_count": 19,
   "metadata": {},
   "outputs": [
    {
     "name": "stdout",
     "output_type": "stream",
     "text": [
      "Sobreviventes: 342\n",
      "==========================\n",
      "Homens: 577\n",
      "Com familiares abordo: 166\n",
      "Sem familiares abordo: 411\n",
      "Primeira classe 122\n",
      "Segunda classe 108\n",
      "Terceira classe 347\n",
      "==========================\n",
      "Mulheres: 314\n",
      "Com familiares abordo: 188\n",
      "Sem familiares abordo: 126\n",
      "Primeira classe 94\n",
      "Segunda classe 76\n",
      "Terceira classe 144\n"
     ]
    }
   ],
   "source": [
    "print('Sobreviventes: {}'.format(df_survived.shape[0]))\n",
    "print('==========================')\n",
    "print('Homens: {}'.format(df_surv_mal.shape[0]))\n",
    "print('Com familiares abordo: {}'.format(df_surv_mal.query('family == \"yes\"').shape[0]))\n",
    "print('Sem familiares abordo: {}'.format(df_surv_mal.query('family == \"no\"').shape[0]))\n",
    "print('Primeira classe {}'.format(df_surv_mal.query('Pclass == 1').shape[0]))\n",
    "print('Segunda classe {}'.format(df_surv_mal.query('Pclass == 2').shape[0]))\n",
    "print('Terceira classe {}'.format(df_surv_mal.query('Pclass == 3').shape[0]))\n",
    "print('==========================')\n",
    "print('Mulheres: {}'.format(df_surv_fem.shape[0]))\n",
    "print('Com familiares abordo: {}'.format(df_surv_fem.query('family == \"yes\"').shape[0]))\n",
    "print('Sem familiares abordo: {}'.format(df_surv_fem.query('family == \"no\"').shape[0]))\n",
    "print('Primeira classe {}'.format(df_surv_fem.query('Pclass == 1').shape[0]))\n",
    "print('Segunda classe {}'.format(df_surv_fem.query('Pclass == 2').shape[0]))\n",
    "print('Terceira classe {}'.format(df_surv_fem.query('Pclass == 3').shape[0]))"
   ]
  },
  {
   "cell_type": "markdown",
   "metadata": {},
   "source": [
    "Vizualizando a relação entre classe e o sexo dos passageiros sobreviventes."
   ]
  },
  {
   "cell_type": "code",
   "execution_count": 20,
   "metadata": {},
   "outputs": [
    {
     "data": {
      "image/png": "[encoded data removed]",
      "text/plain": [
       "<Figure size 432x288 with 1 Axes>"
      ]
     },
     "metadata": {},
     "output_type": "display_data"
    }
   ],
   "source": [
    "catplot_render(\"Age\", \"family\", df_survived, \"Pclass\", \"Sobreviventes classe/familia/idade\")"
   ]
  },
  {
   "cell_type": "markdown",
   "metadata": {},
   "source": [
    "> Podemos detectar que, mulheres com bilhete de primeira classe, tiveram maior exito em sobreviver."
   ]
  },
  {
   "cell_type": "code",
   "execution_count": 21,
   "metadata": {},
   "outputs": [
    {
     "data": {
      "image/png": "[encoded data removed]",
      "text/plain": [
       "<Figure size 432x288 with 1 Axes>"
      ]
     },
     "metadata": {},
     "output_type": "display_data"
    }
   ],
   "source": [
    "catplot_render(\"family\", \"Age\", df_surv_fem.query('Pclass == 1'), \"Sex\", \"Mulheres com/sem familiares\")"
   ]
  },
  {
   "cell_type": "markdown",
   "metadata": {},
   "source": [
    "> Podemos detectar que, mulheres subreviventes da primeira classe, obtiveram maior exito em sobreviver quando possuiam familiares abordo."
   ]
  },
  {
   "cell_type": "markdown",
   "metadata": {},
   "source": [
    "Porcentagem de tripulantes que sobreviveram."
   ]
  },
  {
   "cell_type": "code",
   "execution_count": 22,
   "metadata": {},
   "outputs": [
    {
     "name": "stdout",
     "output_type": "stream",
     "text": [
      "39% dos tripulantes que sobreviveram perteciam a primeira classe.\n",
      "25% dos tripulantes que sobreviveram perteciam a segunda classe.\n",
      "34% dos tripulantes que sobreviveram perteciam a terceira classe.\n"
     ]
    }
   ],
   "source": [
    "print('{}% dos tripulantes que sobreviveram perteciam a primeira classe.'\n",
    "      .format(percente_cal(df_survived.query('Pclass == 1').shape[0],df_survived.shape[0])))\n",
    "print('{}% dos tripulantes que sobreviveram perteciam a segunda classe.'\n",
    "      .format(percente_cal(df_survived.query('Pclass == 2').shape[0],df_survived.shape[0])))\n",
    "print('{}% dos tripulantes que sobreviveram perteciam a terceira classe.'\n",
    "      .format(percente_cal(df_survived.query('Pclass == 3').shape[0],df_survived.shape[0])))"
   ]
  },
  {
   "cell_type": "markdown",
   "metadata": {},
   "source": [
    "Vizualização dos tripulantes vivos por classe de bilhete."
   ]
  },
  {
   "cell_type": "code",
   "execution_count": 23,
   "metadata": {},
   "outputs": [
    {
     "data": {
      "image/png": "[encoded data removed]",
      "text/plain": [
       "<Figure size 432x288 with 1 Axes>"
      ]
     },
     "metadata": {},
     "output_type": "display_data"
    }
   ],
   "source": [
    "catplot_render(\"Pclass\", \"Age\", df_survived, \"Sex\", \"Tripulantes por classe de bilhete\")"
   ]
  },
  {
   "cell_type": "markdown",
   "metadata": {},
   "source": [
    "Porcentagem de sobreviventes Com/Sem familiares abordo."
   ]
  },
  {
   "cell_type": "code",
   "execution_count": 24,
   "metadata": {},
   "outputs": [
    {
     "name": "stdout",
     "output_type": "stream",
     "text": [
      "52% dos tripulantes que sobreviveram, possuiam familiares abordo.\n",
      "47% dos tripulantes que sobreviveram, possuiam familiares abordo.\n"
     ]
    }
   ],
   "source": [
    "print('{}% dos tripulantes que sobreviveram, possuiam familiares abordo.'\n",
    "      .format(percente_cal(df_survived.query('family == \"yes\"').shape[0],df_survived.shape[0])))\n",
    "print('{}% dos tripulantes que sobreviveram, possuiam familiares abordo.'\n",
    "      .format(percente_cal(df_survived.query('family == \"no\"').shape[0],df_survived.shape[0])))"
   ]
  },
  {
   "cell_type": "code",
   "execution_count": 25,
   "metadata": {},
   "outputs": [
    {
     "data": {
      "image/png": "[encoded data removed]",
      "text/plain": [
       "<Figure size 432x288 with 1 Axes>"
      ]
     },
     "metadata": {},
     "output_type": "display_data"
    }
   ],
   "source": [
    "catplot_render(\"family\", \"Age\", df_survived, \"Sex\", \"Tripulantes com/sem familiares\")"
   ]
  },
  {
   "cell_type": "markdown",
   "metadata": {},
   "source": [
    "Podemos perceber que, a mioria dos tripulantes sobreviventes eram mulheres e possuiam familiares abordo."
   ]
  },
  {
   "cell_type": "markdown",
   "metadata": {},
   "source": [
    "# Conclusão"
   ]
  },
  {
   "cell_type": "markdown",
   "metadata": {},
   "source": [
    "Analisando os dados do acidente Titanic, fica claro que:\n",
    "1. Mulheres com bilhete de primeira classe, que possuiam familiares abordo foram previlegiadas no embarque aos botes salva vidas.\n",
    "2. 39% dos sobreviventes pertenciam a 1ª classe, 25% pertenciam a 2ª classe e 34% pertenciam a 3ª classe.\n",
    "3. 52% dos sobreviventes possuiam familiares abordo e 47% não possuiam."
   ]
  },
  {
   "cell_type": "markdown",
   "metadata": {},
   "source": [
    "# Limitações"
   ]
  },
  {
   "cell_type": "markdown",
   "metadata": {},
   "source": [
    "1. Numa primeira visão encontrou-se como fator limitante para a análise, que algumas propriedades não possuiam valores para alguns dos passageiros. Estas caracteristicas são: `Age`, `Cabin` e `Embarked`.\n",
    "    * Medidas tomadas:\n",
    "        * Age: Os valores faltantes desta categoria, foram substituidos pela média de idade dos demais passageiros.\n",
    "        * Cabin: Os valores faltantes desta categoria, foram subtituídos por `Uninformed`, devido não ter relevância na análise\n",
    "        * Embarked: Os valores faltantes desta categoria, foram subtituídos por `Uninformed`, devido não ter relevância na análise\n",
    "2. Encontrou-se como fator limitante que os valores de `Age` se encontravam no formato `float`.\n",
    "    * Medida tomada:\n",
    "        * Foi realizada uma conversão do tipo `float` para `int`.\n",
    "3. Encontrou-se como fator limitante que exitem duas propriedades para determinar se o tripulante possui ou não familiares abordo.\n",
    "    * Medida tomada:\n",
    "        * Foi criada uma nova propriedade `family`, onde fica definido se tripulate possui ou não familiares abordo."
   ]
  }
 ],
 "metadata": {
  "kernelspec": {
   "display_name": "Python 3",
   "language": "python",
   "name": "python3"
  },
  "language_info": {
   "codemirror_mode": {
    "name": "ipython",
    "version": 3
   },
   "file_extension": ".py",
   "mimetype": "text/x-python",
   "name": "python",
   "nbconvert_exporter": "python",
   "pygments_lexer": "ipython3",
   "version": "3.6.6"
  }
 },
 "nbformat": 4,
 "nbformat_minor": 2
}
